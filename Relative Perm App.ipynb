{
 "cells": [
  {
   "cell_type": "code",
   "execution_count": 1,
   "metadata": {},
   "outputs": [
    {
     "data": {
      "application/vnd.jupyter.widget-view+json": {
       "model_id": "9d059ba5d1dc470e98190e78ed60f9d8",
       "version_major": 2,
       "version_minor": 0
      },
      "text/plain": [
       "interactive(children=(BoundedFloatText(value=0.25, description='Swr', max=1.0, step=0.01), BoundedFloatText(va…"
      ]
     },
     "metadata": {},
     "output_type": "display_data"
    },
    {
     "data": {
      "text/plain": [
       "<function __main__.plot(Swr, Sor, krwo, kroo, no, nw)>"
      ]
     },
     "execution_count": 1,
     "metadata": {},
     "output_type": "execute_result"
    }
   ],
   "source": [
    "def plot(Swr,Sor,krwo,kroo,no,nw):\n",
    "    \n",
    "    import numpy as np\n",
    "    import matplotlib.pyplot as plt\n",
    "    %matplotlib inline\n",
    "    \n",
    "    Swr2 = 1-Sor\n",
    "\n",
    "    Sw = np.linspace(Swr,Swr2,100)\n",
    "\n",
    "    krw = np.empty(100)\n",
    "    kro = np.empty(100) \n",
    "\n",
    "\n",
    "    for i,j in enumerate(Sw):\n",
    "        S = (j-Swr)/(1-Swr-Sor)\n",
    "        krw[i] = krwo*(S**nw)\n",
    "        kro[i] = kroo*((1-S)**no)\n",
    " \n",
    "    fig = plt.plot(Sw,krw, 'b-',Sw,kro,'r-')\n",
    "    plt.grid()\n",
    "    plt.ylabel('Relative Permeability')\n",
    "    plt.xlabel('Water Saturation')\n",
    "    plt.gca().legend(('Water','Oil'))\n",
    "\n",
    "from ipywidgets import interact, interactive, fixed, interact_manual\n",
    "import ipywidgets as ipw\n",
    "\n",
    "interact (plot, Swr=ipw.BoundedFloatText(value=0.25,min=0,max=1,step=0.01,disabled=False),\n",
    "          Sor=ipw.BoundedFloatText(value=0.3,min=0,max=1,step=0.01,disabled=False),\n",
    "          krwo=ipw.BoundedFloatText(value=0.2,min=0,max=1,step=0.01,disabled=False),\n",
    "          kroo=ipw.BoundedFloatText(value=1,min=0,max=1,step=0.01,disabled=False),\n",
    "                 \n",
    "          no=ipw.FloatSlider(value=2,min=0.1,max=4.0,step=0.01,disabled=False,continuous_update=False,\n",
    "                             orientation='horizontal',\n",
    "                             layout = {'width':'40%'},\n",
    "                             readout=True,\n",
    "                             readout_format='.2f',),\n",
    "          nw=ipw.FloatSlider(value=2,min=0.1,max=4.0,step=0.01,disabled=False,continuous_update=False,\n",
    "                             orientation='horizontal',\n",
    "                             layout = {'width':'40%'},\n",
    "                             readout=True,\n",
    "                             readout_format='.2f',))\n",
    "    "
   ]
  }
 ],
 "metadata": {
  "kernelspec": {
   "display_name": "Python 3",
   "language": "python",
   "name": "python3"
  },
  "language_info": {
   "codemirror_mode": {
    "name": "ipython",
    "version": 3
   },
   "file_extension": ".py",
   "mimetype": "text/x-python",
   "name": "python",
   "nbconvert_exporter": "python",
   "pygments_lexer": "ipython3",
   "version": "3.7.3"
  }
 },
 "nbformat": 4,
 "nbformat_minor": 2
}
