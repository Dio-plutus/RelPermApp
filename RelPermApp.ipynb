{
 "cells": [
  {
   "cell_type": "markdown",
   "metadata": {},
   "source": [
    "## Relative Permeabiliy Using Modified Brooks-Corey Equations\n",
    "\n",
    "This app plots relative permeability curves using the modified Brooks-Corey relations (1954) assuming two-phases. More information about the model can be found [here](https://petrowiki.org/Relative_permeability_models#Brooks-Corey_and_related_models)\n",
    "\n",
    "The relations used are:\n",
    "\n",
    "$$ krw = krwo * S^{n w} $$\n",
    "\n",
    "$$ kro = kroo * (1-S)^{n o}$$\n",
    "\n",
    "where:\n",
    "\n",
    "$$ S = \\frac{Sw-Swr}{1-Swr-Sor}$$\n",
    "\n",
    "<br />\n",
    "krw = relative permeability of water phase <br /> kro = relative permeability of oil phase <br />krwo = endpoint relative permeability for water <br /> kroo = endpoint relative permeability for oil <br />Swr = residual water saturation <br /> Sor = residual oil saturation <br /> no = Corey exponent for oil <br /> nw = Corey exponent for water<br />\n",
    "\n",
    "\n",
    "\n",
    "nw and no are experimentallly determined.The exponents can vary from 1 to 6. Usually a value close to 2 is used.\n",
    "<br />\n",
    "<br />"
   ]
  },
  {
   "cell_type": "code",
   "execution_count": 1,
   "metadata": {},
   "outputs": [
    {
     "data": {
      "application/vnd.jupyter.widget-view+json": {
       "model_id": "fc40027650c04d559f424911f1fef550",
       "version_major": 2,
       "version_minor": 0
      },
      "text/plain": [
       "interactive(children=(BoundedFloatText(value=0.25, description='Swr', max=1.0, step=0.01), BoundedFloatText(va…"
      ]
     },
     "metadata": {},
     "output_type": "display_data"
    }
   ],
   "source": [
    "def plot(Swr,Sor,krwo,kroo,no,nw):\n",
    "    \n",
    "    import numpy as np\n",
    "    import matplotlib.pyplot as plt\n",
    "    %matplotlib inline\n",
    "    \n",
    "    Swr2 = 1-Sor\n",
    "\n",
    "    Sw = np.linspace(Swr,Swr2,100)\n",
    "\n",
    "    krw = np.empty(100)\n",
    "    kro = np.empty(100) \n",
    "\n",
    "\n",
    "    for i,j in enumerate(Sw):\n",
    "        S = (j-Swr)/(1-Swr-Sor)\n",
    "        krw[i] = krwo*(S**nw)\n",
    "        kro[i] = kroo*((1-S)**no)\n",
    " \n",
    "    fig = plt.plot(Sw,krw, 'b-',Sw,kro,'r-');\n",
    "    plt.grid();\n",
    "    plt.ylabel('Relative Permeability');\n",
    "    plt.xlabel('Water Saturation');\n",
    "    plt.ylim(0,1);\n",
    "    plt.xlim(0,1);\n",
    "    plt.xticks(np.arange(0, 1, 0.1));\n",
    "    plt.yticks(np.arange(0, 1, 0.1));\n",
    "    plt.gca().legend(('Water','Oil'));\n",
    "    \n",
    "\n",
    "from ipywidgets import interact, interactive, fixed, interact_manual, HBox, VBox, Label, BoundedFloatText\n",
    "import ipywidgets as ipw\n",
    "\n",
    "InputSwr = BoundedFloatText(value=0.25,min=0,max=1,step=0.01,disabled=False)\n",
    "BoxSwr = HBox([Label('Enter residual water saturation: '), InputSwr])\n",
    "\n",
    "InputSor = BoundedFloatText(value=0.3,min=0,max=1,step=0.01,disabled=False)\n",
    "BoxSor = HBox([Label('Enter residual oil saturation: '), InputSor])\n",
    "\n",
    "Inputkrwo = BoundedFloatText(value=0.2,min=0,max=1,step=0.01,disabled=False)\n",
    "Boxkrwo = HBox([Label('Enter endpoint relative permeability to water: '), Inputkrwo])\n",
    "\n",
    "Inputkroo = BoundedFloatText(value=1,min=0,max=1,step=0.01,disabled=False)\n",
    "Boxkroo = HBox([Label('Enter endpoint relative permeability to oil: '), Inputkroo])\n",
    "\n",
    "interact (plot,Swr=InputSwr,\n",
    "          Sor=InputSor,\n",
    "          krwo=Inputkrwo,\n",
    "          kroo=Inputkroo,\n",
    "                 \n",
    "          no=ipw.FloatSlider(value=2,min=1,max=6.0,step=0.01,disabled=False,continuous_update=False,description='$n_o$',\n",
    "                             orientation='horizontal',\n",
    "                             layout = {'width':'40%'},\n",
    "                             readout=True,\n",
    "                             readout_format='.2f',),\n",
    "          nw=ipw.FloatSlider(value=2,min=1,max=6.0,step=0.01,disabled=False,continuous_update=False,description='$n_w$',\n",
    "                             orientation='horizontal',\n",
    "                             layout = {'width':'40%'},\n",
    "                             readout=True,\n",
    "                             readout_format='.2f'));\n",
    "\n",
    "#VBox([BoxSwr,BoxSor,Boxkrwo,Boxkroo])\n",
    "    "
   ]
  },
  {
   "cell_type": "markdown",
   "metadata": {},
   "source": [
    "<br />\n",
    "<br />\n",
    "<br />\n",
    "<br />\n",
    "<br />\n",
    "\n",
    "Designed by **Fahim N. Is.** , *BS. Petroleum Engineering, The University of Texas at Austin*"
   ]
  },
  {
   "cell_type": "code",
   "execution_count": null,
   "metadata": {},
   "outputs": [],
   "source": []
  },
  {
   "cell_type": "code",
   "execution_count": null,
   "metadata": {},
   "outputs": [],
   "source": []
  }
 ],
 "metadata": {
  "kernelspec": {
   "display_name": "Python 3",
   "language": "python",
   "name": "python3"
  },
  "language_info": {
   "codemirror_mode": {
    "name": "ipython",
    "version": 3
   },
   "file_extension": ".py",
   "mimetype": "text/x-python",
   "name": "python",
   "nbconvert_exporter": "python",
   "pygments_lexer": "ipython3",
   "version": "3.7.3"
  }
 },
 "nbformat": 4,
 "nbformat_minor": 2
}
